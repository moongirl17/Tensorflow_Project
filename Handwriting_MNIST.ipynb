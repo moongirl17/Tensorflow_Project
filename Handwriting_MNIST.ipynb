{
  "nbformat": 4,
  "nbformat_minor": 0,
  "metadata": {
    "colab": {
      "provenance": []
    },
    "kernelspec": {
      "name": "python3",
      "display_name": "Python 3"
    },
    "language_info": {
      "name": "python"
    }
  },
  "cells": [
    {
      "cell_type": "code",
      "execution_count": 1,
      "metadata": {
        "id": "vRykRakZNsjD"
      },
      "outputs": [],
      "source": [
        "import os\n",
        "import tensorflow as tf\n",
        "from tensorflow import keras\n",
        "from tensorflow.keras import layers, optimizers, datasets\n",
        "from matplotlib import pyplot as plt\n",
        "import numpy as np"
      ]
    },
    {
      "cell_type": "code",
      "source": [
        "#import data set\n",
        "(x_train_raw, y_train_raw), (x_test_raw, y_test_raw) = datasets.mnist.load_data()\n",
        "\n",
        "print (y_train_raw)\n",
        "print (y_train_raw[0])\n",
        "print (y_train_raw[5999])\n",
        "print (x_train_raw.shape, y_train_raw.shape)\n",
        "print (x_test_raw.shape, y_test_raw.shape)\n",
        "print (x_test_raw.shape, y_test_raw)\n"
      ],
      "metadata": {
        "colab": {
          "base_uri": "https://localhost:8080/"
        },
        "id": "LvG3xyIsOL7n",
        "outputId": "9878bfee-91bf-4da3-801e-09e294c0ddbe"
      },
      "execution_count": 2,
      "outputs": [
        {
          "output_type": "stream",
          "name": "stdout",
          "text": [
            "Downloading data from https://storage.googleapis.com/tensorflow/tf-keras-datasets/mnist.npz\n",
            "11490434/11490434 [==============================] - 0s 0us/step\n",
            "[5 0 4 ... 5 6 8]\n",
            "5\n",
            "9\n",
            "(60000, 28, 28) (60000,)\n",
            "(10000, 28, 28) (10000,)\n",
            "(10000, 28, 28) [7 2 1 ... 4 5 6]\n"
          ]
        }
      ]
    },
    {
      "cell_type": "code",
      "source": [
        "num_classes = 10\n",
        "y_train = keras.utils.to_categorical(y_train_raw, num_classes) #MENGUBAH DESIMAL\n",
        "y_test = keras.utils.to_categorical(y_test_raw, num_classes)\n",
        "print (y_train [0]) #print representasi grup digit ke 0\n",
        "print (y_train [5]) #print representasi grup digit ke 5\n",
        "a = keras.utils.to_categorical([0,1,2,3,4,5,6,7,8,9], num_classes=10)\n",
        "print (a)\n",
        "print(y_train [5999])"
      ],
      "metadata": {
        "colab": {
          "base_uri": "https://localhost:8080/"
        },
        "id": "wQpkICKEOacr",
        "outputId": "ecbbdbff-aff5-484e-d8e9-5ae2c08fa4d9"
      },
      "execution_count": 17,
      "outputs": [
        {
          "output_type": "stream",
          "name": "stdout",
          "text": [
            "[0. 0. 0. 0. 0. 1. 0. 0. 0. 0.]\n",
            "[0. 0. 1. 0. 0. 0. 0. 0. 0. 0.]\n",
            "[[1. 0. 0. 0. 0. 0. 0. 0. 0. 0.]\n",
            " [0. 1. 0. 0. 0. 0. 0. 0. 0. 0.]\n",
            " [0. 0. 1. 0. 0. 0. 0. 0. 0. 0.]\n",
            " [0. 0. 0. 1. 0. 0. 0. 0. 0. 0.]\n",
            " [0. 0. 0. 0. 1. 0. 0. 0. 0. 0.]\n",
            " [0. 0. 0. 0. 0. 1. 0. 0. 0. 0.]\n",
            " [0. 0. 0. 0. 0. 0. 1. 0. 0. 0.]\n",
            " [0. 0. 0. 0. 0. 0. 0. 1. 0. 0.]\n",
            " [0. 0. 0. 0. 0. 0. 0. 0. 1. 0.]\n",
            " [0. 0. 0. 0. 0. 0. 0. 0. 0. 1.]]\n",
            "[0. 0. 0. 0. 0. 0. 0. 0. 0. 1.]\n"
          ]
        }
      ]
    },
    {
      "cell_type": "code",
      "source": [
        "#visualisasi data\n",
        "plt.figure()\n",
        "for i in range (9) :\n",
        "  plt.subplot(3,3, i+1)\n",
        "  plt.imshow(x_train_raw[i])\n",
        "  plt.axis('on')\n",
        "plt.show()"
      ],
      "metadata": {
        "colab": {
          "base_uri": "https://localhost:8080/",
          "height": 433
        },
        "id": "gt-YzJ6UO9LG",
        "outputId": "d7ddfe9a-5fb9-423b-efd7-593cb6b06b4b"
      },
      "execution_count": 18,
      "outputs": [
        {
          "output_type": "display_data",
          "data": {
            "text/plain": [
              "<Figure size 640x480 with 9 Axes>"
            ],
            "image/png": "[encoded data removed]"
          },
          "metadata": {}
        }
      ]
    },
    {
      "cell_type": "code",
      "source": [
        "plt.imshow(x_test_raw[51])"
      ],
      "metadata": {
        "colab": {
          "base_uri": "https://localhost:8080/",
          "height": 448
        },
        "id": "Sp0uM8E7PCmg",
        "outputId": "04290fe3-bf24-45e2-8f62-de02ed248194"
      },
      "execution_count": 19,
      "outputs": [
        {
          "output_type": "execute_result",
          "data": {
            "text/plain": [
              "<matplotlib.image.AxesImage at 0x7a379cbb00d0>"
            ]
          },
          "metadata": {},
          "execution_count": 19
        },
        {
          "output_type": "display_data",
          "data": {
            "text/plain": [
              "<Figure size 640x480 with 1 Axes>"
            ],
            "image/png": "[encoded data removed]"
          },
          "metadata": {}
        }
      ]
    },
    {
      "cell_type": "code",
      "source": [
        "#Data Preprocessing\n",
        "\n",
        "#Convert28x28 into a vector => untuk masuk ke fully connected layers\n",
        "\n",
        "x_train= x_train_raw.reshape (60000,784)\n",
        "x_test = x_test_raw.reshape (10000,784)\n",
        "x_train.shape\n",
        "x_test.shape"
      ],
      "metadata": {
        "colab": {
          "base_uri": "https://localhost:8080/"
        },
        "id": "rtllNHXxPQXP",
        "outputId": "af48fd7c-39a9-414e-c26f-bc58fb042c99"
      },
      "execution_count": 20,
      "outputs": [
        {
          "output_type": "execute_result",
          "data": {
            "text/plain": [
              "(10000, 784)"
            ]
          },
          "metadata": {},
          "execution_count": 20
        }
      ]
    },
    {
      "cell_type": "code",
      "source": [
        "#Data Normalization\n",
        "#memastikan bahwa nilai pixel ada dalam range 0 dan 1\n",
        "\n",
        "x_train = x_train.astype('float32')/255\n",
        "x_test = x_test.astype('float32')/255\n",
        "\n",
        "x_train.dtype\n",
        "print (x_test[7])"
      ],
      "metadata": {
        "colab": {
          "base_uri": "https://localhost:8080/"
        },
        "id": "D9FhsR-DPShJ",
        "outputId": "c2e94974-71a0-4f47-ab05-ab801dc71d24"
      },
      "execution_count": 21,
      "outputs": [
        {
          "output_type": "stream",
          "name": "stdout",
          "text": [
            "[0.         0.         0.         0.         0.         0.\n",
            " 0.         0.         0.         0.         0.         0.\n",
            " 0.         0.         0.         0.         0.         0.\n",
            " 0.         0.         0.         0.         0.         0.\n",
            " 0.         0.         0.         0.         0.         0.\n",
            " 0.         0.         0.         0.         0.         0.\n",
            " 0.         0.         0.         0.         0.         0.\n",
            " 0.         0.         0.         0.         0.         0.\n",
            " 0.         0.         0.         0.         0.         0.\n",
            " 0.         0.         0.         0.         0.         0.\n",
            " 0.         0.         0.         0.         0.         0.\n",
            " 0.         0.         0.         0.         0.         0.\n",
            " 0.         0.         0.         0.         0.         0.\n",
            " 0.         0.         0.         0.         0.         0.\n",
            " 0.         0.         0.         0.         0.         0.\n",
            " 0.         0.         0.         0.         0.         0.\n",
            " 0.         0.         0.         0.         0.         0.\n",
            " 0.         0.         0.         0.         0.         0.\n",
            " 0.         0.         0.         0.         0.         0.\n",
            " 0.         0.         0.         0.         0.         0.\n",
            " 0.         0.         0.         0.         0.         0.\n",
            " 0.         0.         0.         0.         0.         0.\n",
            " 0.         0.         0.         0.         0.         0.\n",
            " 0.         0.         0.         0.         0.         0.\n",
            " 0.         0.         0.         0.         0.         0.\n",
            " 0.         0.         0.         0.         0.         0.\n",
            " 0.         0.         0.         0.         0.         0.\n",
            " 0.         0.         0.         0.         0.         0.\n",
            " 0.         0.         0.         0.         0.         0.\n",
            " 0.         0.         0.         0.         0.         0.05490196\n",
            " 0.58431375 0.75686276 0.01960784 0.         0.         0.\n",
            " 0.         0.         0.         0.         0.         0.\n",
            " 0.         0.         0.         0.         0.         0.\n",
            " 0.         0.         0.         0.         0.         0.\n",
            " 0.         0.         0.35686275 0.8784314  0.99215686 0.99215686\n",
            " 0.07450981 0.         0.         0.         0.         0.\n",
            " 0.         0.         0.         0.         0.         0.\n",
            " 0.         0.         0.         0.         0.         0.\n",
            " 0.         0.         0.         0.         0.         0.10980392\n",
            " 0.92156863 0.99607843 0.99215686 0.99215686 0.6509804  0.07058824\n",
            " 0.         0.         0.         0.         0.         0.\n",
            " 0.         0.         0.         0.         0.         0.\n",
            " 0.         0.         0.         0.         0.         0.\n",
            " 0.         0.         0.         0.5647059  0.99215686 0.99607843\n",
            " 0.99215686 0.99215686 0.99215686 0.93333334 0.4509804  0.02352941\n",
            " 0.         0.         0.         0.         0.         0.\n",
            " 0.         0.         0.         0.         0.         0.\n",
            " 0.         0.         0.         0.         0.         0.\n",
            " 0.12156863 0.94509804 0.99215686 0.8156863  0.7254902  0.99215686\n",
            " 0.99215686 0.99215686 0.90588236 0.09411765 0.         0.\n",
            " 0.         0.         0.         0.         0.         0.\n",
            " 0.         0.         0.         0.         0.         0.\n",
            " 0.         0.         0.         0.         0.30980393 0.99607843\n",
            " 0.75686276 0.         0.03137255 0.38431373 0.85882354 0.99607843\n",
            " 1.         0.7882353  0.07058824 0.         0.         0.\n",
            " 0.         0.         0.         0.         0.         0.\n",
            " 0.         0.         0.         0.         0.         0.\n",
            " 0.         0.         0.3372549  0.99215686 0.3137255  0.\n",
            " 0.         0.         0.7137255  0.99215686 0.99607843 0.7490196\n",
            " 0.04705882 0.         0.         0.         0.         0.\n",
            " 0.         0.         0.         0.         0.         0.\n",
            " 0.         0.         0.         0.         0.         0.\n",
            " 0.6862745  0.99215686 0.60784316 0.         0.         0.\n",
            " 0.91764706 0.99215686 0.99607843 0.5294118  0.         0.\n",
            " 0.         0.         0.         0.         0.         0.\n",
            " 0.         0.         0.         0.         0.         0.\n",
            " 0.         0.         0.         0.         0.3372549  0.99215686\n",
            " 0.8156863  0.15686275 0.33333334 0.6509804  0.9843137  0.92941177\n",
            " 0.99607843 0.9254902  0.16470589 0.         0.         0.\n",
            " 0.         0.         0.         0.         0.         0.\n",
            " 0.         0.         0.         0.         0.         0.\n",
            " 0.         0.         0.07058824 0.93333334 0.99215686 0.99607843\n",
            " 0.99215686 0.99215686 0.7254902  0.14117648 0.84705883 0.99215686\n",
            " 0.59607846 0.         0.         0.         0.         0.\n",
            " 0.         0.         0.         0.         0.         0.\n",
            " 0.         0.         0.         0.         0.         0.\n",
            " 0.         0.26666668 0.9411765  1.         0.99607843 0.5686275\n",
            " 0.03137255 0.         0.5254902  0.99607843 0.8745098  0.13725491\n",
            " 0.         0.         0.         0.         0.         0.\n",
            " 0.         0.         0.         0.         0.         0.\n",
            " 0.         0.         0.         0.         0.         0.\n",
            " 0.26666668 0.61960787 0.5568628  0.04705882 0.         0.\n",
            " 0.03529412 0.6862745  0.99215686 0.6313726  0.         0.\n",
            " 0.         0.         0.         0.         0.         0.\n",
            " 0.         0.         0.         0.         0.         0.\n",
            " 0.         0.         0.         0.         0.         0.\n",
            " 0.         0.         0.         0.         0.         0.34509805\n",
            " 0.99215686 0.8862745  0.07058824 0.         0.         0.\n",
            " 0.         0.         0.         0.         0.         0.\n",
            " 0.         0.         0.         0.         0.         0.\n",
            " 0.         0.         0.         0.         0.         0.\n",
            " 0.         0.         0.         0.00784314 0.6509804  0.99215686\n",
            " 0.49411765 0.         0.         0.         0.         0.\n",
            " 0.         0.         0.         0.         0.         0.\n",
            " 0.         0.         0.         0.         0.         0.\n",
            " 0.         0.         0.         0.         0.         0.\n",
            " 0.         0.         0.1882353  0.9607843  0.99215686 0.14901961\n",
            " 0.         0.         0.         0.         0.         0.\n",
            " 0.         0.         0.         0.         0.         0.\n",
            " 0.         0.         0.         0.         0.         0.\n",
            " 0.         0.         0.         0.         0.         0.\n",
            " 0.         0.4509804  0.99607843 0.6745098  0.03529412 0.\n",
            " 0.         0.         0.         0.         0.         0.\n",
            " 0.         0.         0.         0.         0.         0.\n",
            " 0.         0.         0.         0.         0.         0.\n",
            " 0.         0.         0.         0.         0.         0.08235294\n",
            " 0.85490197 0.99607843 0.18039216 0.         0.         0.\n",
            " 0.         0.         0.         0.         0.         0.\n",
            " 0.         0.         0.         0.         0.         0.\n",
            " 0.         0.         0.         0.         0.         0.\n",
            " 0.         0.         0.         0.         0.11764706 0.99607843\n",
            " 0.64705884 0.         0.         0.         0.         0.\n",
            " 0.         0.         0.         0.         0.         0.\n",
            " 0.         0.         0.         0.         0.         0.\n",
            " 0.         0.         0.         0.         0.         0.\n",
            " 0.         0.         0.         0.7294118  0.95686275 0.16470589\n",
            " 0.         0.         0.         0.         0.         0.\n",
            " 0.         0.         0.         0.         0.         0.\n",
            " 0.         0.         0.         0.         0.         0.\n",
            " 0.         0.         0.         0.         0.         0.\n",
            " 0.         0.05490196 0.8745098  0.30588236 0.         0.\n",
            " 0.         0.         0.         0.         0.         0.\n",
            " 0.         0.         0.         0.         0.         0.\n",
            " 0.         0.         0.         0.         0.         0.\n",
            " 0.         0.         0.         0.         0.         0.\n",
            " 0.         0.         0.         0.         0.         0.\n",
            " 0.         0.         0.         0.         0.         0.\n",
            " 0.         0.         0.         0.         0.         0.\n",
            " 0.         0.         0.         0.         0.         0.\n",
            " 0.         0.         0.         0.         0.         0.\n",
            " 0.         0.         0.         0.        ]\n"
          ]
        }
      ]
    },
    {
      "cell_type": "code",
      "source": [
        "print (x_test_raw[7])"
      ],
      "metadata": {
        "colab": {
          "base_uri": "https://localhost:8080/"
        },
        "id": "rpRkcI3MPWd_",
        "outputId": "0ffcd356-079a-4f74-d68c-e1165f36cc6e"
      },
      "execution_count": 22,
      "outputs": [
        {
          "output_type": "stream",
          "name": "stdout",
          "text": [
            "[[  0   0   0   0   0   0   0   0   0   0   0   0   0   0   0   0   0   0\n",
            "    0   0   0   0   0   0   0   0   0   0]\n",
            " [  0   0   0   0   0   0   0   0   0   0   0   0   0   0   0   0   0   0\n",
            "    0   0   0   0   0   0   0   0   0   0]\n",
            " [  0   0   0   0   0   0   0   0   0   0   0   0   0   0   0   0   0   0\n",
            "    0   0   0   0   0   0   0   0   0   0]\n",
            " [  0   0   0   0   0   0   0   0   0   0   0   0   0   0   0   0   0   0\n",
            "    0   0   0   0   0   0   0   0   0   0]\n",
            " [  0   0   0   0   0   0   0   0   0   0   0   0   0   0   0   0   0   0\n",
            "    0   0   0   0   0   0   0   0   0   0]\n",
            " [  0   0   0   0   0   0   0   0   0   0   0   0   0   0   0   0   0   0\n",
            "    0   0   0   0   0   0   0   0   0   0]\n",
            " [  0   0   0   0   0   0   0   0   0   0   0  14 149 193   5   0   0   0\n",
            "    0   0   0   0   0   0   0   0   0   0]\n",
            " [  0   0   0   0   0   0   0   0   0   0  91 224 253 253  19   0   0   0\n",
            "    0   0   0   0   0   0   0   0   0   0]\n",
            " [  0   0   0   0   0   0   0   0   0  28 235 254 253 253 166  18   0   0\n",
            "    0   0   0   0   0   0   0   0   0   0]\n",
            " [  0   0   0   0   0   0   0   0   0 144 253 254 253 253 253 238 115   6\n",
            "    0   0   0   0   0   0   0   0   0   0]\n",
            " [  0   0   0   0   0   0   0   0  31 241 253 208 185 253 253 253 231  24\n",
            "    0   0   0   0   0   0   0   0   0   0]\n",
            " [  0   0   0   0   0   0   0   0  79 254 193   0   8  98 219 254 255 201\n",
            "   18   0   0   0   0   0   0   0   0   0]\n",
            " [  0   0   0   0   0   0   0   0  86 253  80   0   0   0 182 253 254 191\n",
            "   12   0   0   0   0   0   0   0   0   0]\n",
            " [  0   0   0   0   0   0   0   0 175 253 155   0   0   0 234 253 254 135\n",
            "    0   0   0   0   0   0   0   0   0   0]\n",
            " [  0   0   0   0   0   0   0   0  86 253 208  40  85 166 251 237 254 236\n",
            "   42   0   0   0   0   0   0   0   0   0]\n",
            " [  0   0   0   0   0   0   0   0  18 238 253 254 253 253 185  36 216 253\n",
            "  152   0   0   0   0   0   0   0   0   0]\n",
            " [  0   0   0   0   0   0   0   0   0  68 240 255 254 145   8   0 134 254\n",
            "  223  35   0   0   0   0   0   0   0   0]\n",
            " [  0   0   0   0   0   0   0   0   0   0  68 158 142  12   0   0   9 175\n",
            "  253 161   0   0   0   0   0   0   0   0]\n",
            " [  0   0   0   0   0   0   0   0   0   0   0   0   0   0   0   0   0  88\n",
            "  253 226  18   0   0   0   0   0   0   0]\n",
            " [  0   0   0   0   0   0   0   0   0   0   0   0   0   0   0   0   0   2\n",
            "  166 253 126   0   0   0   0   0   0   0]\n",
            " [  0   0   0   0   0   0   0   0   0   0   0   0   0   0   0   0   0   0\n",
            "   48 245 253  38   0   0   0   0   0   0]\n",
            " [  0   0   0   0   0   0   0   0   0   0   0   0   0   0   0   0   0   0\n",
            "    0 115 254 172   9   0   0   0   0   0]\n",
            " [  0   0   0   0   0   0   0   0   0   0   0   0   0   0   0   0   0   0\n",
            "    0  21 218 254  46   0   0   0   0   0]\n",
            " [  0   0   0   0   0   0   0   0   0   0   0   0   0   0   0   0   0   0\n",
            "    0   0  30 254 165   0   0   0   0   0]\n",
            " [  0   0   0   0   0   0   0   0   0   0   0   0   0   0   0   0   0   0\n",
            "    0   0   0 186 244  42   0   0   0   0]\n",
            " [  0   0   0   0   0   0   0   0   0   0   0   0   0   0   0   0   0   0\n",
            "    0   0   0  14 223  78   0   0   0   0]\n",
            " [  0   0   0   0   0   0   0   0   0   0   0   0   0   0   0   0   0   0\n",
            "    0   0   0   0   0   0   0   0   0   0]\n",
            " [  0   0   0   0   0   0   0   0   0   0   0   0   0   0   0   0   0   0\n",
            "    0   0   0   0   0   0   0   0   0   0]]\n"
          ]
        }
      ]
    },
    {
      "cell_type": "code",
      "source": [
        "#Build a model\n",
        "#model sequential, one layer afer one layer, dense layer\n",
        "\n",
        "mymodel = keras.Sequential (\n",
        "    [ layers.Dense (512, activation='relu', input_dim = 784), #number of neuron 512, activation function =relu. input dimension 784\n",
        "      layers.Dense (256, activation='relu'),\n",
        "      layers.Dense (124, activation='relu'),\n",
        "      #last layers : output layers\n",
        "      layers.Dense (10, activation ='softmax') # we want to have 10 categories of class\n",
        "    ]\n",
        ")\n",
        "\n",
        "mymodel.summary()\n"
      ],
      "metadata": {
        "colab": {
          "base_uri": "https://localhost:8080/"
        },
        "id": "dHgI2E78PauV",
        "outputId": "805baf67-cfd2-4242-cba3-40c05e56bf10"
      },
      "execution_count": 23,
      "outputs": [
        {
          "output_type": "stream",
          "name": "stdout",
          "text": [
            "Model: \"sequential_1\"\n",
            "_________________________________________________________________\n",
            " Layer (type)                Output Shape              Param #   \n",
            "=================================================================\n",
            " dense_4 (Dense)             (None, 512)               401920    \n",
            "                                                                 \n",
            " dense_5 (Dense)             (None, 256)               131328    \n",
            "                                                                 \n",
            " dense_6 (Dense)             (None, 124)               31868     \n",
            "                                                                 \n",
            " dense_7 (Dense)             (None, 10)                1250      \n",
            "                                                                 \n",
            "=================================================================\n",
            "Total params: 566366 (2.16 MB)\n",
            "Trainable params: 566366 (2.16 MB)\n",
            "Non-trainable params: 0 (0.00 Byte)\n",
            "_________________________________________________________________\n"
          ]
        }
      ]
    },
    {
      "cell_type": "code",
      "source": [
        "#compile the modul before run it with data\n",
        "# specify : optimizer, learning rate\n",
        "\n",
        "myoptimizer = tf.keras.optimizers.Adam(0.001) #optimizer : Adam, learning rate = 0.001\n",
        "mymodel.compile(loss=keras.losses.categorical_crossentropy,   #calculate losses with categorical crossentropy\n",
        "              optimizer=myoptimizer,\n",
        "              metrics=['accuracy'])\n"
      ],
      "metadata": {
        "id": "WYER6f1mPahs"
      },
      "execution_count": 24,
      "outputs": []
    },
    {
      "cell_type": "code",
      "source": [
        "#Evaluate The Model with test data\n",
        "#at the end please compare the result with training data\n",
        "\n",
        "myscore = mymodel.evaluate(x_test,  y_test, verbose=1)\n",
        "#print(myscore)\n",
        "#print('test loss :', myscore[0])\n",
        "#print('test accuracy :', myscore[0])"
      ],
      "metadata": {
        "colab": {
          "base_uri": "https://localhost:8080/"
        },
        "id": "exnE7FlBPaXg",
        "outputId": "f77a57e6-e6d8-42ce-e3b0-a426cb2e8bd1"
      },
      "execution_count": 26,
      "outputs": [
        {
          "output_type": "stream",
          "name": "stdout",
          "text": [
            "313/313 [==============================] - 1s 3ms/step - loss: 2.3090 - accuracy: 0.1163\n"
          ]
        }
      ]
    },
    {
      "cell_type": "code",
      "source": [
        "#Building CNN\n",
        "\n",
        "#1. Import library and tools\n",
        "import tensorflow as tf\n",
        "from tensorflow import keras\n",
        "import numpy as np\n",
        "\n",
        "model=keras.Sequential()"
      ],
      "metadata": {
        "id": "431pfVwmPaDe"
      },
      "execution_count": 28,
      "outputs": []
    },
    {
      "cell_type": "code",
      "source": [
        "#2.Building Model\n",
        "\n",
        "#build convolutional layer by using \"keras.layers.Conv2D\"\n",
        "#specify kernel size (filter) : 5x5\n",
        "#specify stride (1,1) : the scanning moving 1 by 1 pixel\n",
        "#Padding is a term relevant to convolutional neural networks\n",
        "#as it refers to the amount of pixels added to an image when it is being processed by the kernel of a CNN\n",
        "#specify padding : \"same\" keep the original as input, \"valid\" : reduced to the size or kernel\n",
        "#specify activation function : relu\n",
        "#input shape = 28x28x1 => 1 channel, if using RGB use 3 channel\n",
        "\n",
        "#1st convolutional and pooling layers\n",
        "model.add(keras.layers.Conv2D(filters=32,kernel_size = 5,strides = (1,1),            #1st conv layers\n",
        "                              padding = 'same',activation = tf.nn.relu,input_shape = (28,28,1)))\n",
        "\n",
        "model.add(keras.layers.MaxPool2D(pool_size=(2,2), strides = (2,2), padding = 'valid'))  #1st pooling layers\n",
        "\n",
        "##Add the second convolutional layer and pooling layer.\n",
        "model.add(keras.layers.Conv2D(filters=64,kernel_size = 3,strides = (1,1),padding = 'same',activation = tf.nn.relu))\n",
        "model.add(keras.layers.MaxPool2D(pool_size=(2,2), strides = (2,2), padding = 'valid'))\n",
        "\n",
        "##Add a dropout layer to reduce overfitting.\n",
        "#0.25 is the dropout rate.\n",
        "#if you want to keep 75% of your nodes in your network, then your rate = 1-0.75 =0.25\n",
        "model.add(keras.layers.Dropout(0.25))\n",
        "model.add(keras.layers.Flatten())\n",
        "\n",
        "##Add two fully connected layers.\n",
        "model.add(keras.layers.Dense(units=128,activation = tf.nn.relu))\n",
        "model.add(keras.layers.Dropout(0.5))\n",
        "model.add(keras.layers.Dense(units=10,activation = tf.nn.softmax))"
      ],
      "metadata": {
        "id": "MZ1PxWe1QhWR"
      },
      "execution_count": 29,
      "outputs": []
    },
    {
      "cell_type": "code",
      "source": [
        "#3.Expand data Dimension\n",
        "\n",
        "X_train=x_train.reshape(60000,28,28,1)\n",
        "X_test=x_test.reshape(10000,28,28,1)\n",
        "X_test.shape\n"
      ],
      "metadata": {
        "colab": {
          "base_uri": "https://localhost:8080/"
        },
        "id": "lHKBWBV3QhKL",
        "outputId": "591a307a-1ecb-4ebe-91aa-de0dc59cbc3a"
      },
      "execution_count": 30,
      "outputs": [
        {
          "output_type": "execute_result",
          "data": {
            "text/plain": [
              "(10000, 28, 28, 1)"
            ]
          },
          "metadata": {},
          "execution_count": 30
        }
      ]
    },
    {
      "cell_type": "code",
      "source": [
        "#4.Model Compilation\n",
        "\n",
        "model.compile(optimizer=tf.keras.optimizers.Adam(),loss=\"categorical_crossentropy\",metrics=['accuracy'])\n"
      ],
      "metadata": {
        "id": "WK0p074DQhBF"
      },
      "execution_count": 31,
      "outputs": []
    },
    {
      "cell_type": "code",
      "source": [
        "#5.Model Training\n",
        "\n",
        "model.fit(x=X_train,y=y_train,epochs=2,batch_size=128)"
      ],
      "metadata": {
        "colab": {
          "base_uri": "https://localhost:8080/"
        },
        "id": "kJ3D7OzxQg52",
        "outputId": "f202c56f-87a4-45b8-f660-c7020c02821c"
      },
      "execution_count": 32,
      "outputs": [
        {
          "output_type": "stream",
          "name": "stdout",
          "text": [
            "Epoch 1/2\n",
            "469/469 [==============================] - 73s 153ms/step - loss: 0.2820 - accuracy: 0.9136\n",
            "Epoch 2/2\n",
            "469/469 [==============================] - 66s 141ms/step - loss: 0.0936 - accuracy: 0.9729\n"
          ]
        },
        {
          "output_type": "execute_result",
          "data": {
            "text/plain": [
              "<keras.src.callbacks.History at 0x7a377ddfebc0>"
            ]
          },
          "metadata": {},
          "execution_count": 32
        }
      ]
    },
    {
      "cell_type": "code",
      "source": [
        "#6. Evaluate CNN model\n",
        "test_loss, test_acc=model.evaluate(X_test,y_test,batch_size=128)\n",
        "print(\"Test Accuracy %.2f\"%test_acc)"
      ],
      "metadata": {
        "colab": {
          "base_uri": "https://localhost:8080/"
        },
        "id": "TmpjlzHcQg2Z",
        "outputId": "db622a28-f58d-402d-9cc4-d19632b89eeb"
      },
      "execution_count": 33,
      "outputs": [
        {
          "output_type": "stream",
          "name": "stdout",
          "text": [
            "79/79 [==============================] - 4s 42ms/step - loss: 0.0365 - accuracy: 0.9872\n",
            "Test Accuracy 0.99\n"
          ]
        }
      ]
    },
    {
      "cell_type": "code",
      "source": [
        "#7. Save the model on your drive\n",
        "\n",
        "model.save(r'C:\\Users\\user\\python_course\\final_DNN_model.h5')"
      ],
      "metadata": {
        "colab": {
          "base_uri": "https://localhost:8080/"
        },
        "id": "EyiLkfFuQgp3",
        "outputId": "35c3f5b9-57f7-4866-8416-b3b33c511a53"
      },
      "execution_count": 34,
      "outputs": [
        {
          "output_type": "stream",
          "name": "stderr",
          "text": [
            "/usr/local/lib/python3.10/dist-packages/keras/src/engine/training.py:3103: UserWarning: You are saving your model as an HDF5 file via `model.save()`. This file format is considered legacy. We recommend using instead the native Keras format, e.g. `model.save('my_model.keras')`.\n",
            "  saving_api.save_model(\n"
          ]
        }
      ]
    },
    {
      "cell_type": "code",
      "source": [
        "#8. load the Model\n",
        "from tensorflow.keras.models import load_model\n",
        "new_model=load_model(r'C:\\Users\\user\\python_course\\final_DNN_model.h5')\n",
        "new_model.summary()"
      ],
      "metadata": {
        "colab": {
          "base_uri": "https://localhost:8080/"
        },
        "id": "lJ9vVCucQw9Q",
        "outputId": "2fd4a00d-6679-4d4c-a051-362d7106f926"
      },
      "execution_count": 35,
      "outputs": [
        {
          "output_type": "stream",
          "name": "stdout",
          "text": [
            "Model: \"sequential_2\"\n",
            "_________________________________________________________________\n",
            " Layer (type)                Output Shape              Param #   \n",
            "=================================================================\n",
            " conv2d (Conv2D)             (None, 28, 28, 32)        832       \n",
            "                                                                 \n",
            " max_pooling2d (MaxPooling2  (None, 14, 14, 32)        0         \n",
            " D)                                                              \n",
            "                                                                 \n",
            " conv2d_1 (Conv2D)           (None, 14, 14, 64)        18496     \n",
            "                                                                 \n",
            " max_pooling2d_1 (MaxPoolin  (None, 7, 7, 64)          0         \n",
            " g2D)                                                            \n",
            "                                                                 \n",
            " dropout (Dropout)           (None, 7, 7, 64)          0         \n",
            "                                                                 \n",
            " flatten (Flatten)           (None, 3136)              0         \n",
            "                                                                 \n",
            " dense_8 (Dense)             (None, 128)               401536    \n",
            "                                                                 \n",
            " dropout_1 (Dropout)         (None, 128)               0         \n",
            "                                                                 \n",
            " dense_9 (Dense)             (None, 10)                1290      \n",
            "                                                                 \n",
            "=================================================================\n",
            "Total params: 422154 (1.61 MB)\n",
            "Trainable params: 422154 (1.61 MB)\n",
            "Non-trainable params: 0 (0.00 Byte)\n",
            "_________________________________________________________________\n"
          ]
        }
      ]
    },
    {
      "cell_type": "code",
      "source": [
        "#9. Visualization\n",
        "import matplotlib.pyplot as plt\n",
        "%matplotlib inline\n",
        "\n",
        "def res_Visual(n):\n",
        "    #final_opt_a=new_model.predict_classes(X_test[0:n])\n",
        "    predictions = new_model.predict(X_test[0:n])\n",
        "    final_opt_a = np.argmax(predictions, axis=1) # Get the class with highest probability\n",
        "    #Perform predictions on the test set by using the model.\n",
        "    #nrow=n number of row, ncols= number of columns that you want to plot your data into.\n",
        "    fig, ax = plt.subplots(nrows=int(n/5),ncols=5 )\n",
        "    ax = ax.flatten()\n",
        "    print('prediction results of the first {} images:'.format(n))\n",
        "\n",
        "    #create a \"for loop\"\n",
        "    for i in range(n):\n",
        "        print(final_opt_a[i],end=',')\n",
        "        if int((i+1)%5) ==0:\n",
        "            print('\\t')\n",
        "\n",
        "        #Visualize image display.\n",
        "        img= X_test[i].reshape((28,28))#Read each row of data in the format of Ndarry.\n",
        "        plt.axis(\"off\")\n",
        "        ax[i].imshow(img, cmap='Greys', interpolation='nearest')#Visualization\n",
        "        ax[i].axis(\"off\")\n",
        "    print('first {} images in the test set:'.format(n))\n",
        "res_Visual(25)"
      ],
      "metadata": {
        "colab": {
          "base_uri": "https://localhost:8080/",
          "height": 551
        },
        "id": "7yVC7sLLQzXn",
        "outputId": "bb64a08b-0377-41dd-fe24-8eb703802d7e"
      },
      "execution_count": 36,
      "outputs": [
        {
          "output_type": "stream",
          "name": "stdout",
          "text": [
            "1/1 [==============================] - 0s 131ms/step\n",
            "prediction results of the first 25 images:\n",
            "7,2,1,0,4,\t\n",
            "1,4,9,5,9,\t\n",
            "0,6,9,0,1,\t\n",
            "5,9,7,3,4,\t\n",
            "9,6,6,5,4,\t\n",
            "first 25 images in the test set:\n"
          ]
        },
        {
          "output_type": "display_data",
          "data": {
            "text/plain": [
              "<Figure size 640x480 with 25 Axes>"
            ],
            "image/png": "[encoded data removed]"
          },
          "metadata": {}
        }
      ]
    }
  ]
}
